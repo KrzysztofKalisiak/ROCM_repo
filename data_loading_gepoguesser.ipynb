{
 "cells": [
  {
   "cell_type": "code",
   "execution_count": 1,
   "metadata": {},
   "outputs": [],
   "source": [
    "import geopandas as gpd\n",
    "import pandas as pd\n",
    "import numpy as np\n",
    "import glob\n",
    "import os\n",
    "from PIL import Image\n",
    "import matplotlib.pyplot as plt\n",
    "\n",
    "from shapely.geometry import Polygon, Point, MultiPolygon, MultiPoint\n",
    "import shapely\n",
    "\n",
    "import time\n",
    "\n",
    "import requests"
   ]
  },
  {
   "cell_type": "code",
   "execution_count": 2,
   "metadata": {},
   "outputs": [],
   "source": [
    "import hashlib\n",
    "import hmac\n",
    "import base64\n",
    "import urllib.parse as urlparse\n",
    "\n",
    "\n",
    "def sign_url(input_url=None, secret=None):\n",
    "    \"\"\" Sign a request URL with a URL signing secret.\n",
    "      Usage:\n",
    "      from urlsigner import sign_url\n",
    "      signed_url = sign_url(input_url=my_url, secret=SECRET)\n",
    "      Args:\n",
    "      input_url - The URL to sign\n",
    "      secret    - Your URL signing secret\n",
    "      Returns:\n",
    "      The signed request URL\n",
    "  \"\"\"\n",
    "\n",
    "    if not input_url or not secret:\n",
    "        raise Exception(\"Both input_url and secret are required\")\n",
    "\n",
    "    url = urlparse.urlparse(input_url)\n",
    "\n",
    "    # We only need to sign the path+query part of the string\n",
    "    url_to_sign = url.path + \"?\" + url.query\n",
    "\n",
    "    # Decode the private key into its binary format\n",
    "    # We need to decode the URL-encoded private key\n",
    "    decoded_key = base64.urlsafe_b64decode(secret)\n",
    "\n",
    "    # Create a signature using the private key and the URL-encoded\n",
    "    # string using HMAC SHA1. This signature will be binary.\n",
    "    signature = hmac.new(decoded_key, str.encode(url_to_sign), hashlib.sha1)\n",
    "\n",
    "    # Encode the binary signature into base64 for use within a URL\n",
    "    encoded_signature = base64.urlsafe_b64encode(signature.digest())\n",
    "\n",
    "    original_url = url.scheme + \"://\" + url.netloc + url.path + \"?\" + url.query\n",
    "\n",
    "    # Return signed URL\n",
    "    return original_url + \"&signature=\" + encoded_signature.decode()"
   ]
  },
  {
   "cell_type": "code",
   "execution_count": 13,
   "metadata": {},
   "outputs": [],
   "source": [
    "def create_link(pic_base, api_key, x, y, radius, heading, signature, if_signature):\n",
    "\n",
    "    def_link = pic_base+'key='+api_key+'&'+'location='+str(y)+','+str(x)+'&'+'radius='+str(radius)+'&'+'heading='+str(heading)+'&size=640x640&fov=120&source=outdoor'\n",
    "\n",
    "    if if_signature:\n",
    "\n",
    "        def_link = sign_url(def_link, signature)\n",
    "\n",
    "    return def_link\n"
   ]
  },
  {
   "cell_type": "code",
   "execution_count": 14,
   "metadata": {},
   "outputs": [],
   "source": [
    "meta_base = 'https://maps.googleapis.com/maps/api/streetview/metadata?'\n",
    "pic_base = 'https://maps.googleapis.com/maps/api/streetview?'\n",
    "api_key = \n",
    "\n",
    "signature = "
   ]
  },
  {
   "cell_type": "code",
   "execution_count": 15,
   "metadata": {},
   "outputs": [],
   "source": [
    "def get_streetview_api(x, y, api_key, resolution, area_bound, subscript):\n",
    "\n",
    "    for radius in [100, 500, 1000, 2000, 10000, 30000, 50000]:\n",
    "\n",
    "        meta_params = {'key': api_key, 'location': str(y)+','+str(x), 'radius':str(radius), 'fov':str(120), 'source':'outdoor'}\n",
    "        meta_response = requests.get(meta_base, params=meta_params).json()\n",
    "\n",
    "        if meta_response['status'] == 'OK':\n",
    "            y, x = tuple(meta_response['location'].values())\n",
    "            break\n",
    "    \n",
    "    if meta_response['status'] != 'OK' or not Point(x, y).within(area_bound):\n",
    "        return [], ()\n",
    "\n",
    "    pic_params = {'key': api_key,\n",
    "                  'location': str(y)+','+str(x),\n",
    "                  'size': resolution,\n",
    "                  'fov':str(120),\n",
    "                  'radius':str(radius),\n",
    "                  'source':'outdoor'}\n",
    "    \n",
    "    metadata = []#(x, y, radius)\n",
    "    result = []\n",
    "\n",
    "    for heading in [120, 240, 360]:\n",
    "\n",
    "        pic_params['heading'] = heading\n",
    "\n",
    "        response = requests.get(create_link(pic_base, api_key, x, y, radius, heading, signature, True)) # pic_base, params=pic_params\n",
    "        if response.status_code == 200:\n",
    "            result.append(response.content)\n",
    "            response.close()\n",
    "            metadata.append((x, y, radius, heading, subscript))\n",
    "        elif response.status_code == 403:\n",
    "            print(response)\n",
    "    \n",
    "    return result, metadata   "
   ]
  },
  {
   "cell_type": "code",
   "execution_count": 16,
   "metadata": {},
   "outputs": [],
   "source": [
    "class StreetViewData:\n",
    "    def __init__(self, european_shape_file, n_locations=25000):\n",
    "        self.EU_shapefile = gpd.read_file(european_shape_file)\n",
    "\n",
    "        self.EU_shapefile_bbox = self.EU_shapefile\n",
    "\n",
    "        self.n_locations = n_locations\n",
    "\n",
    "        self.custom_geometries = {}\n",
    "    \n",
    "    def bound_map(self, cords):\n",
    "        polys_b = gpd.GeoSeries([Polygon([x for x in cords])])\n",
    "        self.df_b = gpd.GeoDataFrame({'geometry': polys_b}, crs='EPSG:4326')\n",
    "\n",
    "        self.EU_shapefile_bbox = self.EU_shapefile.overlay(self.df_b, how='intersection')\n",
    "\n",
    "    def get_areas(self, agg_level):\n",
    "\n",
    "        self.subset_level = self.EU_shapefile_bbox.loc[self.EU_shapefile_bbox['LEVL_CODE']==agg_level]\n",
    "        self.areas_m = self.subset_level.to_crs({'init': 'epsg:32633'})\n",
    "        self.areas_m[\"area\"] = self.areas_m['geometry'].area/ 10**6\n",
    "\n",
    "        print('Average 1 location per ', (self.areas_m['area'].sum()/self.n_locations)**(1/2), 'km')\n",
    "\n",
    "        self.custom_geometries['S'] = self.areas_m[['geometry', 'area', 'CNTR_CODE', 'NAME_LATN']].copy()\n",
    "\n",
    "    def select_points(self, prop=None):\n",
    "\n",
    "        total = self.areas_m['area'].sum()\n",
    "        \n",
    "        if prop is None:\n",
    "            prop = self.areas_m['area']/total\n",
    "\n",
    "        points_per_geo = (self.n_locations*prop).astype(int) + 1\n",
    "\n",
    "        self.areas_m['sampled'] = self.areas_m.sample_points(points_per_geo)\n",
    "\n",
    "        self.areas_m['sampled'] = self.areas_m['sampled'].to_crs({'init': 'EPSG:4326'})\n",
    "        self.areas_m['geometry'] = self.areas_m['geometry'].to_crs({'init': 'EPSG:4326'})\n",
    "\n",
    "    def download_streetview_data(self, api_key, regions=[], subscript='S'):\n",
    "\n",
    "        if not os.path.exists('DATA'):\n",
    "            os.mkdir('DATA')\n",
    "\n",
    "        for _, row in self.areas_m.iterrows():\n",
    "\n",
    "            if row['CNTR_CODE'] not in regions:\n",
    "                continue\n",
    "\n",
    "            subregion_folder = 'DATA/'+row['CNTR_CODE']+'/'+row['NAME_LATN'].replace('/', '_') + '/'\n",
    "            if not os.path.exists(subregion_folder):\n",
    "                os.makedirs(subregion_folder)\n",
    "\n",
    "            if type(row['sampled']) is shapely.geometry.point.Point:\n",
    "\n",
    "                x = row['sampled'].x\n",
    "                y = row['sampled'].y\n",
    "\n",
    "                # ======\n",
    "                try:\n",
    "                    res, meta = get_streetview_api(x, y, api_key, '640x640', row['geometry'], subscript)\n",
    "                    if len(meta) > 0:\n",
    "                        for i, f in enumerate(res):\n",
    "                            with open(subregion_folder+'%s|%s|%s|%s|%s.jpg' % meta[i], 'wb') as file:\n",
    "                                file.write(f)\n",
    "                except:\n",
    "                    time.sleep(5)\n",
    "                    print('ups', row['CNTR_CODE'])\n",
    "                # ======\n",
    "\n",
    "            else:\n",
    "                for point in row['sampled'].geoms:\n",
    "                    \n",
    "                    try:\n",
    "                        x = point.geoms.x\n",
    "                        y = point.geoms.y\n",
    "                    except:\n",
    "                        x = point.x\n",
    "                        y = point.y\n",
    "\n",
    "                    # ======\n",
    "                    try:\n",
    "                        res, meta = get_streetview_api(x, y, api_key, '640x640', row['geometry'], subscript)\n",
    "                        if len(meta) > 0:\n",
    "                            for i, f in enumerate(res):\n",
    "                                with open(subregion_folder+'%s|%s|%s|%s|%s.jpg' % meta[i], 'wb') as file:\n",
    "                                    file.write(f)\n",
    "                    except:\n",
    "                        time.sleep(5)\n",
    "                        print('ups', row['CNTR_CODE'])\n",
    "                    # ======\n",
    "    def load_custom_geometry(self, geom, n_locations=None, subscript='U'):\n",
    "\n",
    "        if n_locations is not None:\n",
    "            self.n_locations = n_locations\n",
    "\n",
    "        self.areas_m = gpd.sjoin(geom, self.subset_level.to_crs({'init': 'epsg:32633'}))\n",
    "\n",
    "        def agg_polygons(vars):\n",
    "            return MultiPolygon(vars.values)\n",
    "\n",
    "        x1 = self.areas_m.groupby(\n",
    "            ['CNTR_CODE', 'NAME_LATN']).apply(\n",
    "                lambda x: (x['area'].sum(), agg_polygons(x['geometry']))).reset_index()\n",
    "\n",
    "        area, geometry = zip(*x1[0])\n",
    "\n",
    "        self.areas_m = gpd.GeoDataFrame(data={\n",
    "            'CNTR_CODE':x1['CNTR_CODE'], \n",
    "            'NAME_LATN':x1['NAME_LATN'], \n",
    "            'area':area}, geometry=np.array(geometry), crs='epsg:32633')\n",
    "\n",
    "        self.custom_geometries[subscript] = self.areas_m\n",
    "        \n",
    "        print('Average 1 location per ', (self.areas_m['area'].sum()/self.n_locations)**(1/2), 'km')\n",
    "\n",
    "    def load_downloaded_cords(self):\n",
    "\n",
    "        self.data_cords_contrainer = {}\n",
    "\n",
    "        for name_ in glob.glob('DATA/*/*/*120|*.jpg'):\n",
    "\n",
    "            _, country_, region_, cords = name_.split('/')\n",
    "            cords = Point([float(x) for x in cords.split('|', )[:2]])\n",
    "            subtype = name_.rsplit('|', 1)[1].split('.')[0]\n",
    "\n",
    "            if country_ not in self.data_cords_contrainer:\n",
    "                self.data_cords_contrainer[country_] = {}\n",
    "\n",
    "            if region_ not in self.data_cords_contrainer[country_]:\n",
    "                self.data_cords_contrainer[country_][region_] = {}\n",
    "\n",
    "            if subtype not in self.data_cords_contrainer[country_][region_]:\n",
    "                self.data_cords_contrainer[country_][region_][subtype] = []\n",
    "\n",
    "            self.data_cords_contrainer[country_][region_][subtype].append(cords)\n",
    "\n",
    "        self.data_cords_contrainer_ = {}\n",
    "        for k_c in self.data_cords_contrainer:\n",
    "            self.data_cords_contrainer_[k_c] = {}\n",
    "            for k_r in self.data_cords_contrainer[k_c]:\n",
    "                self.data_cords_contrainer_[k_c][k_r] = {}\n",
    "                for k_t in self.data_cords_contrainer[k_c][k_r]:\n",
    "                    self.data_cords_contrainer_[k_c][k_r][k_t] = MultiPoint(self.data_cords_contrainer[k_c][k_r][k_t])\n",
    "        \n",
    "        self.data_cords_contrainer = pd.concat({k: pd.DataFrame(v).T for k, v in self.data_cords_contrainer_.items()}, axis=0)\n",
    "    \n",
    "        return self.data_cords_contrainer\n",
    "    \n",
    "    def plot_downloaded_shapefiles(self, suffixes='ALL'):\n",
    "\n",
    "        if suffixes == 'ALL':\n",
    "            suffixes = [x for x in list(self.custom_geometries.keys()) if x != 'S']\n",
    "\n",
    "        ax = self.custom_geometries['S'].plot()\n",
    "\n",
    "        for suff in suffixes:\n",
    "            self.custom_geometries[suff].plot(ax=ax, color='red')\n",
    "        plt.show()"
   ]
  },
  {
   "cell_type": "code",
   "execution_count": 17,
   "metadata": {},
   "outputs": [
    {
     "name": "stdout",
     "output_type": "stream",
     "text": [
      "Average 1 location per  22.587875988084395 km\n"
     ]
    },
    {
     "name": "stderr",
     "output_type": "stream",
     "text": [
      "/home/krzysztof-kalisiak/Desktop/ROCM_repo/.venv/lib/python3.12/site-packages/pyproj/crs/crs.py:141: FutureWarning: '+init=<authority>:<code>' syntax is deprecated. '<authority>:<code>' is the preferred initialization method. When making the change, be mindful of axis order changes: https://pyproj4.github.io/pyproj/stable/gotchas.html#axis-order-changes-in-proj-6\n",
      "  in_crs_string = _prepare_from_proj_string(in_crs_string)\n",
      "/home/krzysztof-kalisiak/Desktop/ROCM_repo/.venv/lib/python3.12/site-packages/pyproj/crs/crs.py:141: FutureWarning: '+init=<authority>:<code>' syntax is deprecated. '<authority>:<code>' is the preferred initialization method. When making the change, be mindful of axis order changes: https://pyproj4.github.io/pyproj/stable/gotchas.html#axis-order-changes-in-proj-6\n",
      "  in_crs_string = _prepare_from_proj_string(in_crs_string)\n"
     ]
    }
   ],
   "source": [
    "Data = StreetViewData('DATA_OTHER/NUTS_RG_20M_2021_4326.shp', 10000)\n",
    "Data.bound_map([(-13.653748, 35.879978), (37.353218, 35.917920), (30.936364, 65.165650), (-10.937123, 65.209358)])\n",
    "Data.get_areas(2)\n",
    "Data.select_points()\n",
    "\n",
    "total = Data.areas_m['area'].sum()\n",
    "preserve = Data.areas_m['area']/total"
   ]
  },
  {
   "cell_type": "code",
   "execution_count": 18,
   "metadata": {},
   "outputs": [
    {
     "name": "stderr",
     "output_type": "stream",
     "text": [
      "/home/krzysztof-kalisiak/Desktop/ROCM_repo/.venv/lib/python3.12/site-packages/pyproj/crs/crs.py:141: FutureWarning: '+init=<authority>:<code>' syntax is deprecated. '<authority>:<code>' is the preferred initialization method. When making the change, be mindful of axis order changes: https://pyproj4.github.io/pyproj/stable/gotchas.html#axis-order-changes-in-proj-6\n",
      "  in_crs_string = _prepare_from_proj_string(in_crs_string)\n",
      "/home/krzysztof-kalisiak/Desktop/ROCM_repo/.venv/lib/python3.12/site-packages/pyproj/crs/crs.py:141: FutureWarning: '+init=<authority>:<code>' syntax is deprecated. '<authority>:<code>' is the preferred initialization method. When making the change, be mindful of axis order changes: https://pyproj4.github.io/pyproj/stable/gotchas.html#axis-order-changes-in-proj-6\n",
      "  in_crs_string = _prepare_from_proj_string(in_crs_string)\n",
      "/tmp/ipykernel_230315/2881887732.py:104: DeprecationWarning: DataFrameGroupBy.apply operated on the grouping columns. This behavior is deprecated, and in a future version of pandas the grouping columns will be excluded from the operation. Either pass `include_groups=False` to exclude the groupings or explicitly select the grouping columns after groupby to silence this warning.\n",
      "  ['CNTR_CODE', 'NAME_LATN']).apply(\n"
     ]
    },
    {
     "name": "stdout",
     "output_type": "stream",
     "text": [
      "Average 1 location per  5.114634360149552 km\n"
     ]
    },
    {
     "name": "stderr",
     "output_type": "stream",
     "text": [
      "/home/krzysztof-kalisiak/Desktop/ROCM_repo/.venv/lib/python3.12/site-packages/pyproj/crs/crs.py:141: FutureWarning: '+init=<authority>:<code>' syntax is deprecated. '<authority>:<code>' is the preferred initialization method. When making the change, be mindful of axis order changes: https://pyproj4.github.io/pyproj/stable/gotchas.html#axis-order-changes-in-proj-6\n",
      "  in_crs_string = _prepare_from_proj_string(in_crs_string)\n",
      "/tmp/ipykernel_230315/237826601.py:12: UserWarning: Geometry is in a geographic CRS. Results from 'area' are likely incorrect. Use 'GeoSeries.to_crs()' to re-project geometries to a projected CRS before this operation.\n",
      "\n",
      "  d1 = d.groupby('CNTR_CODE')['n_points'].sum() / Data.subset_level.groupby('CNTR_CODE').apply(lambda x: np.sum(x.area))\n",
      "/tmp/ipykernel_230315/237826601.py:12: DeprecationWarning: DataFrameGroupBy.apply operated on the grouping columns. This behavior is deprecated, and in a future version of pandas the grouping columns will be excluded from the operation. Either pass `include_groups=False` to exclude the groupings or explicitly select the grouping columns after groupby to silence this warning.\n",
      "  d1 = d.groupby('CNTR_CODE')['n_points'].sum() / Data.subset_level.groupby('CNTR_CODE').apply(lambda x: np.sum(x.area))\n",
      "/home/krzysztof-kalisiak/Desktop/ROCM_repo/.venv/lib/python3.12/site-packages/pyproj/crs/crs.py:141: FutureWarning: '+init=<authority>:<code>' syntax is deprecated. '<authority>:<code>' is the preferred initialization method. When making the change, be mindful of axis order changes: https://pyproj4.github.io/pyproj/stable/gotchas.html#axis-order-changes-in-proj-6\n",
      "  in_crs_string = _prepare_from_proj_string(in_crs_string)\n"
     ]
    }
   ],
   "source": [
    "CSF = gpd.read_file('DATA_OTHER/eea_v_3035_100_k_umz-2000_p_2013_v16_r00')\n",
    "CSF = CSF.to_crs({'init': 'epsg:32633'})\n",
    "CSF[\"area\"] = CSF['geometry'].area/ 10**6\n",
    "\n",
    "Data.load_custom_geometry(CSF, 10000, subscript='v')\n",
    "\n",
    "Data.select_points(prop=preserve)\n",
    "\n",
    "d = Data.areas_m.copy()\n",
    "d['n_points'] = d.sampled.explode(index_parts=True).groupby(level=0).count()\n",
    "\n",
    "d1 = d.groupby('CNTR_CODE')['n_points'].sum() / Data.subset_level.groupby('CNTR_CODE').apply(lambda x: np.sum(x.area))\n",
    "preserve = preserve * Data.areas_m.join(pd.Series(100/d1, name='multiplier'), on='CNTR_CODE')['multiplier'].values\n",
    "\n",
    "preserve = preserve / preserve.sum()\n",
    "\n",
    "Data.select_points(prop=preserve)"
   ]
  },
  {
   "cell_type": "code",
   "execution_count": 28,
   "metadata": {},
   "outputs": [],
   "source": [
    "Data.download_streetview_data(api_key, ['HR', 'HU', 'IE', 'IT', 'LT', 'LU', 'LV', 'ME', 'MT', 'NL', 'NO', 'PL', 'PT', 'RO', 'RS', 'SE', 'SI', 'SK',\n",
    "       'TR', 'UK'], 'v')"
   ]
  },
  {
   "cell_type": "code",
   "execution_count": 8,
   "metadata": {},
   "outputs": [
    {
     "data": {
      "text/plain": [
       "183402"
      ]
     },
     "execution_count": 8,
     "metadata": {},
     "output_type": "execute_result"
    }
   ],
   "source": [
    "import glob\n",
    "len(glob.glob('DATA/*/*/*.jpg')) + len(glob.glob('storage/*/*/*.jpg'))"
   ]
  },
  {
   "cell_type": "code",
   "execution_count": 19,
   "metadata": {},
   "outputs": [],
   "source": [
    "axs = Data.load_downloaded_cords()"
   ]
  },
  {
   "cell_type": "code",
   "execution_count": 36,
   "metadata": {},
   "outputs": [
    {
     "name": "stderr",
     "output_type": "stream",
     "text": [
      "/home/krzysztof-kalisiak/Desktop/ROCM_repo/.venv/lib/python3.12/site-packages/pyproj/crs/crs.py:141: FutureWarning: '+init=<authority>:<code>' syntax is deprecated. '<authority>:<code>' is the preferred initialization method. When making the change, be mindful of axis order changes: https://pyproj4.github.io/pyproj/stable/gotchas.html#axis-order-changes-in-proj-6\n",
      "  in_crs_string = _prepare_from_proj_string(in_crs_string)\n"
     ]
    },
    {
     "data": {
      "image/png": "[encoded data removed]",
      "text/plain": [
       "<Figure size 640x480 with 1 Axes>"
      ]
     },
     "metadata": {},
     "output_type": "display_data"
    }
   ],
   "source": [
    "from shapely.plotting import plot_points, plot_polygon\n",
    "\n",
    "c_iso = 'FR'\n",
    "region = 'Alsace'\n",
    "\n",
    "fig, ax = plt.subplots()\n",
    "cells = plot_points(axs.loc[(c_iso, region), 'v'], color='Red')\n",
    "bounds = plot_polygon(Data.custom_geometries['S'].loc[Data.custom_geometries['S']['NAME_LATN']==region, 'geometry'].to_crs({'init': 'EPSG:4326'}).iloc[0], add_points=False)"
   ]
  }
 ],
 "metadata": {
  "kernelspec": {
   "display_name": ".venv",
   "language": "python",
   "name": "python3"
  },
  "language_info": {
   "codemirror_mode": {
    "name": "ipython",
    "version": 3
   },
   "file_extension": ".py",
   "mimetype": "text/x-python",
   "name": "python",
   "nbconvert_exporter": "python",
   "pygments_lexer": "ipython3",
   "version": "3.12.3"
  }
 },
 "nbformat": 4,
 "nbformat_minor": 2
}
